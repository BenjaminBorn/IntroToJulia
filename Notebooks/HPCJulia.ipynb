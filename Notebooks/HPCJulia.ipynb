{
 "cells": [
  {
   "cell_type": "markdown",
   "metadata": {},
   "source": [
    "# HPC Julia"
   ]
  },
  {
   "cell_type": "markdown",
   "metadata": {},
   "source": [
    "## UC Irvine Cluster (SGE)"
   ]
  },
  {
   "cell_type": "markdown",
   "metadata": {},
   "source": [
    "Job Script"
   ]
  },
  {
   "cell_type": "code",
   "execution_count": null,
   "metadata": {
    "collapsed": true
   },
   "outputs": [],
   "source": [
    "#!/bin/bash\n",
    "\n",
    "#$ -N jbtest\n",
    "#$ -q <Queue>\n",
    "#$ -pe mpich 128\n",
    "#$ -cwd            \t\t# run the job out of the current directory\n",
    "#$ -m beas\n",
    "#$ -ckpt blcr\n",
    "#$ -o output/\n",
    "#$ -e output/\n",
    "module load julia/0.4.3\n",
    "julia --machinefile jbtest-pe_hostfile_mpich.$JOB_ID test.jl"
   ]
  },
  {
   "cell_type": "markdown",
   "metadata": {},
   "source": [
    "Test function"
   ]
  },
  {
   "cell_type": "code",
   "execution_count": null,
   "metadata": {
    "collapsed": true
   },
   "outputs": [],
   "source": [
    "## Script which prints out the hostnames of the worker processes\n",
    "# Used in conjunction with a job script to ensure multi-node parallelism\n",
    "\n",
    "hosts = @parallel for i=1:120\n",
    "       run(`hostname`) end\n",
    "println(hosts)"
   ]
  },
  {
   "cell_type": "markdown",
   "metadata": {},
   "source": [
    "## XSEDE Comet (Slurm)"
   ]
  }
 ],
 "metadata": {
  "kernelspec": {
   "display_name": "Julia 0.5.0-rc3",
   "language": "julia",
   "name": "julia-0.5"
  },
  "language_info": {
   "file_extension": ".jl",
   "mimetype": "application/julia",
   "name": "julia",
   "version": "0.5.0"
  }
 },
 "nbformat": 4,
 "nbformat_minor": 1
}
