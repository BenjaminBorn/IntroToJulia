{
 "cells": [
  {
   "cell_type": "markdown",
   "metadata": {},
   "source": [
    "## LightGraphs Problem"
   ]
  },
  {
   "cell_type": "code",
   "execution_count": null,
   "metadata": {
    "collapsed": true
   },
   "outputs": [],
   "source": [
    "using LightGraphs, Distributions\n",
    "function mkTree(maxdepth::Int = 10, p::Float64 = 0.8, g::SimpleGraph = Graph(1), currhead::Int = 1)\n",
    "    if (maxdepth <= 1) g\n",
    "    else\n",
    "       b = Binomial(2, p)\n",
    "       nEdges = max(1, rand(b))\n",
    "        for leaves in 1:nEdges\n",
    "            add_vertex!(g)\n",
    "            newnode = nv(g)\n",
    "            add_edge!(g, currhead, newnode)\n",
    "            mkTree(maxdepth-1, p, g, newnode)\n",
    "        end\n",
    "    end\n",
    "    g\n",
    "end"
   ]
  },
  {
   "cell_type": "markdown",
   "metadata": {},
   "source": [
    "## Rootfinding Problems"
   ]
  },
  {
   "cell_type": "code",
   "execution_count": null,
   "metadata": {
    "collapsed": true
   },
   "outputs": [],
   "source": [
    "using Roots\n",
    "f(x) = 10 - x + e*sin(x)\n",
    "fzero(f,BigFloat(2.0))"
   ]
  },
  {
   "cell_type": "code",
   "execution_count": null,
   "metadata": {
    "collapsed": true
   },
   "outputs": [],
   "source": [
    "f! = function (x,dx)\n",
    "  dx[1] = x[1]   + x[2]   + x[3]^2 -12\n",
    "  dx[2] = x[1]^2 - x[2]   + x[3]   - 2\n",
    "  dx[3] = 2x[1]  - x[2]^2 + x[3]   - 1\n",
    "end\n",
    "using NLsolve\n",
    "res = nlsolve(f!,[1.0;1.0;1.0])\n",
    "res.zero\n",
    "res = nlsolve(f!,[1.0;1.0;1.0],autodiff=true)\n",
    "res.zero"
   ]
  }
 ],
 "metadata": {
  "anaconda-cloud": {},
  "kernelspec": {
   "display_name": "Julia 0.5.2",
   "language": "julia",
   "name": "julia-0.5"
  },
  "language_info": {
   "file_extension": ".jl",
   "mimetype": "application/julia",
   "name": "julia",
   "version": "0.5.2"
  }
 },
 "nbformat": 4,
 "nbformat_minor": 1
}
