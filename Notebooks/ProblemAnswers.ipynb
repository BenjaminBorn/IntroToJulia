{
 "cells": [
  {
   "cell_type": "markdown",
   "metadata": {},
   "source": [
    "## Strang Matrix Problem"
   ]
  },
  {
   "cell_type": "code",
   "execution_count": 10,
   "metadata": {
    "collapsed": false
   },
   "outputs": [
    {
     "data": {
      "text/plain": [
       "10×10 Array{Float64,2}:\n",
       " -2.0   1.0   0.0   0.0   0.0   0.0   0.0   0.0   0.0   0.0\n",
       "  1.0  -2.0   1.0   0.0   0.0   0.0   0.0   0.0   0.0   0.0\n",
       "  0.0   1.0  -2.0   1.0   0.0   0.0   0.0   0.0   0.0   0.0\n",
       "  0.0   0.0   1.0  -2.0   1.0   0.0   0.0   0.0   0.0   0.0\n",
       "  0.0   0.0   0.0   1.0  -2.0   1.0   0.0   0.0   0.0   0.0\n",
       "  0.0   0.0   0.0   0.0   1.0  -2.0   1.0   0.0   0.0   0.0\n",
       "  0.0   0.0   0.0   0.0   0.0   1.0  -2.0   1.0   0.0   0.0\n",
       "  0.0   0.0   0.0   0.0   0.0   0.0   1.0  -2.0   1.0   0.0\n",
       "  0.0   0.0   0.0   0.0   0.0   0.0   0.0   1.0  -2.0   1.0\n",
       "  0.0   0.0   0.0   0.0   0.0   0.0   0.0   0.0   1.0  -2.0"
      ]
     },
     "execution_count": 10,
     "metadata": {},
     "output_type": "execute_result"
    }
   ],
   "source": [
    "N = 10\n",
    "A = zeros(N,N)\n",
    "for i in 1:N, j in 1:N\n",
    "    abs(i-j)<=1 && A[i,j]+=1\n",
    "    i==j && A[i,j]-=3\n",
    "end\n",
    "A"
   ]
  },
  {
   "cell_type": "code",
   "execution_count": 2,
   "metadata": {
    "collapsed": false
   },
   "outputs": [],
   "source": [
    "#### Prepare Data\n",
    "\n",
    "X = rand(1000, 3)               # feature matrix\n",
    "a0 = rand(3)                    # ground truths\n",
    "y = X * a0 + 0.1 * randn(1000);  # generate response"
   ]
  },
  {
   "cell_type": "markdown",
   "metadata": {},
   "source": [
    "## Linear Regression Problem"
   ]
  },
  {
   "cell_type": "code",
   "execution_count": 11,
   "metadata": {
    "collapsed": false
   },
   "outputs": [
    {
     "name": "stdout",
     "output_type": "stream",
     "text": [
      "[0.515386,0.860817,0.185099,-0.0104013]\n",
      "[0.515386,0.860817,0.185099,-0.0104013]\n"
     ]
    },
    {
     "data": {
      "text/plain": [
       "DataFrames.DataFrameRegressionModel{GLM.LinearModel{GLM.LmResp{Array{Float64,1}},GLM.DensePredChol{Float64,Base.LinAlg.Cholesky{Float64,Array{Float64,2}}}},Array{Float64,2}}\n",
       "\n",
       "Formula: Y ~ 1 + X1 + X2 + X3\n",
       "\n",
       "Coefficients:\n",
       "               Estimate Std.Error  t value Pr(>|t|)\n",
       "(Intercept)  -0.0104013 0.0101878 -1.02096   0.3075\n",
       "X1             0.515386  0.011076  46.5316   <1e-99\n",
       "X2             0.860817 0.0108627  79.2451   <1e-99\n",
       "X3             0.185099 0.0108959  16.9879   <1e-56\n"
      ]
     },
     "execution_count": 11,
     "metadata": {},
     "output_type": "execute_result"
    }
   ],
   "source": [
    "X2 = hcat(X,ones(1000))\n",
    "println(X2\\y)\n",
    "\n",
    "using MultivariateStats\n",
    "println(llsq(X,y))\n",
    "\n",
    "using DataFrames, GLM\n",
    "data = DataFrame(X1=X[:,1], X2=X[:,2], X3=X[:,3],Y=y)\n",
    "OLS = lm(@formula(Y ~ X1 + X2 + X3), data)"
   ]
  },
  {
   "cell_type": "markdown",
   "metadata": {},
   "source": [
    "## Logistic Equation Problem"
   ]
  },
  {
   "cell_type": "code",
   "execution_count": 2,
   "metadata": {
    "collapsed": false
   },
   "outputs": [],
   "source": [
    "r = 2.9:.00005:4; numAttract = 150\n",
    "steady = ones(length(r),1)*.25\n",
    "for i=1:400 ## Get to steady state\n",
    "  steady .= r.*steady.*(1-steady)\n",
    "end\n",
    "x = zeros(length(steady),numAttract)\n",
    "x[:,1] = steady\n",
    "@inbounds for i=2:numAttract ## Grab values at the attractor\n",
    "  x[:,i] = r.*x[:,i-1].*(1-x[:,i-1])\n",
    "end\n",
    "using Plots; gr()\n",
    "plot(collect(r),x,seriestype=:scatter,markersize=.002,legend=false)"
   ]
  },
  {
   "cell_type": "markdown",
   "metadata": {},
   "source": [
    "## Metaprogramming Project"
   ]
  },
  {
   "cell_type": "code",
   "execution_count": 1,
   "metadata": {
    "collapsed": false
   },
   "outputs": [
    {
     "data": {
      "text/plain": [
       "4-element Array{Float64,1}:\n",
       "  0.153788\n",
       "  0.742984\n",
       " -0.268836\n",
       "  0.320996"
      ]
     },
     "execution_count": 1,
     "metadata": {},
     "output_type": "execute_result"
    }
   ],
   "source": [
    "macro ~(y,ex)\n",
    "  new_ex = Meta.quot(ex)\n",
    "  quote\n",
    "    inner_ex = $(esc(new_ex))\n",
    "    data_name = Symbol(string(inner_ex.args[end])[1])\n",
    "    eval_ex = Expr(:(=),:data,data_name)\n",
    "    eval(Main,eval_ex)\n",
    "    new_X = Matrix{Float64}(size(data,1),length(inner_ex.args)-1)\n",
    "    cur_spot = 0\n",
    "    for i in 2:length(inner_ex.args)\n",
    "      if inner_ex.args[i] == 1\n",
    "        new_X[:,i-1] = ones(size(data,1))\n",
    "      else\n",
    "        col = parse(Int,string(string(inner_ex.args[i])[2]))\n",
    "        new_X[:,i-1] = data[:,col]\n",
    "      end\n",
    "    end\n",
    "    $(esc(y)),new_X\n",
    "  end\n",
    "end\n",
    "\n",
    "y = rand(10)\n",
    "X = rand(10,4)\n",
    "y~1+X1+X2+X4\n",
    "\n",
    "function solve_least_squares(y,X)\n",
    "  X\\y\n",
    "end\n",
    "solve_least_squares(tup::Tuple) = solve_least_squares(tup...)\n",
    "solve_least_squares(y~1+X1+X2+X4)"
   ]
  },
  {
   "cell_type": "markdown",
   "metadata": {},
   "source": [
    "## Distribution Dispatch Problem\n",
    "\n",
    "This is from Josh Day's talk: https://www.youtube.com/watch?v=EwcTNzpQ6Sc\n",
    "\n",
    "Solution is from: https://github.com/joshday/Talks/blob/master/SLG2016_IntroToJulia/Slides.ipynb"
   ]
  },
  {
   "cell_type": "code",
   "execution_count": null,
   "metadata": {
    "collapsed": true
   },
   "outputs": [],
   "source": [
    "function myquantile(d::UnivariateDistribution, q::Number)\n",
    "    θ = mean(d)\n",
    "    tol = Inf\n",
    "    while tol > 1e-5\n",
    "        θold = θ\n",
    "        θ = θ - (cdf(d, θ) - q) / pdf(d, θ)\n",
    "        tol = abs(θold - θ)\n",
    "    end\n",
    "    θ\n",
    "end\n",
    "\n",
    "for dist in [Gamma(5, 1), Normal(0, 1), Beta(2, 4)]\n",
    "    @show myquantile(dist, .75)\n",
    "    @show quantile(dist, .75)\n",
    "    println()\n",
    "end"
   ]
  },
  {
   "cell_type": "markdown",
   "metadata": {},
   "source": [
    "## LightGraphs Problem"
   ]
  },
  {
   "cell_type": "code",
   "execution_count": null,
   "metadata": {
    "collapsed": true
   },
   "outputs": [],
   "source": [
    "using LightGraphs, Distributions\n",
    "function mkTree(maxdepth::Int = 10, p::Float64 = 0.8, g::SimpleGraph = Graph(1), currhead::Int = 1)\n",
    "    if (maxdepth <= 1) g\n",
    "    else\n",
    "       b = Binomial(2, p)\n",
    "       nEdges = max(1, rand(b))\n",
    "        for leaves in 1:nEdges\n",
    "            add_vertex!(g)\n",
    "            newnode = nv(g)\n",
    "            add_edge!(g, currhead, newnode)\n",
    "            mkTree(maxdepth-1, p, g, newnode)\n",
    "        end\n",
    "    end\n",
    "    g\n",
    "end"
   ]
  },
  {
   "cell_type": "markdown",
   "metadata": {},
   "source": [
    "## Rootfinding Problems"
   ]
  },
  {
   "cell_type": "code",
   "execution_count": null,
   "metadata": {
    "collapsed": true
   },
   "outputs": [],
   "source": [
    "using Roots\n",
    "f(x) = 10 - x + e*sin(x)\n",
    "fzero(f,BigFloat(2.0))"
   ]
  },
  {
   "cell_type": "code",
   "execution_count": null,
   "metadata": {
    "collapsed": true
   },
   "outputs": [],
   "source": [
    "f! = function (x,dx)\n",
    "  dx[1] = x[1]   + x[2]   + x[3]^2 -12\n",
    "  dx[2] = x[1]^2 - x[2]   + x[3]   - 2\n",
    "  dx[3] = 2x[1]  - x[2]^2 + x[3]   - 1\n",
    "end\n",
    "using NLsolve\n",
    "res = nlsolve(f!,[1.0;1.0;1.0])\n",
    "res.zero\n",
    "res = nlsolve(f!,[1.0;1.0;1.0],autodiff=true)\n",
    "res.zero"
   ]
  }
 ],
 "metadata": {
  "anaconda-cloud": {},
  "kernelspec": {
   "display_name": "Julia 0.5.2",
   "language": "julia",
   "name": "julia-0.5"
  },
  "language_info": {
   "file_extension": ".jl",
   "mimetype": "application/julia",
   "name": "julia",
   "version": "0.5.2"
  }
 },
 "nbformat": 4,
 "nbformat_minor": 1
}
