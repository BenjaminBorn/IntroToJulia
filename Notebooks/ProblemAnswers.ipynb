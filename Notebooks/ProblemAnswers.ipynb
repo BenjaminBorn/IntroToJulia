{
 "cells": [
  {
   "cell_type": "markdown",
   "metadata": {},
   "source": [
    "## Problem 1"
   ]
  },
  {
   "cell_type": "code",
   "execution_count": 10,
   "metadata": {
    "collapsed": false
   },
   "outputs": [
    {
     "data": {
      "text/plain": [
       "10×10 Array{Float64,2}:\n",
       " -2.0   1.0   0.0   0.0   0.0   0.0   0.0   0.0   0.0   0.0\n",
       "  1.0  -2.0   1.0   0.0   0.0   0.0   0.0   0.0   0.0   0.0\n",
       "  0.0   1.0  -2.0   1.0   0.0   0.0   0.0   0.0   0.0   0.0\n",
       "  0.0   0.0   1.0  -2.0   1.0   0.0   0.0   0.0   0.0   0.0\n",
       "  0.0   0.0   0.0   1.0  -2.0   1.0   0.0   0.0   0.0   0.0\n",
       "  0.0   0.0   0.0   0.0   1.0  -2.0   1.0   0.0   0.0   0.0\n",
       "  0.0   0.0   0.0   0.0   0.0   1.0  -2.0   1.0   0.0   0.0\n",
       "  0.0   0.0   0.0   0.0   0.0   0.0   1.0  -2.0   1.0   0.0\n",
       "  0.0   0.0   0.0   0.0   0.0   0.0   0.0   1.0  -2.0   1.0\n",
       "  0.0   0.0   0.0   0.0   0.0   0.0   0.0   0.0   1.0  -2.0"
      ]
     },
     "execution_count": 10,
     "metadata": {},
     "output_type": "execute_result"
    }
   ],
   "source": [
    "N = 10\n",
    "A = zeros(N,N)\n",
    "for i in 1:N, j in 1:N\n",
    "    abs(i-j)<=1 ? A[i,j]+=1 : nothing\n",
    "    i==j ? A[i,j]-=3 : nothing\n",
    "end\n",
    "A"
   ]
  },
  {
   "cell_type": "code",
   "execution_count": 14,
   "metadata": {
    "collapsed": false
   },
   "outputs": [
    {
     "data": {
      "text/plain": [
       "1000-element Array{Float64,1}:\n",
       " 1.0737  \n",
       " 0.617939\n",
       " 0.941093\n",
       " 0.142068\n",
       " 0.6174  \n",
       " 0.361449\n",
       " 0.657612\n",
       " 0.571313\n",
       " 0.310871\n",
       " 0.407938\n",
       " 0.330809\n",
       " 0.263355\n",
       " 0.949922\n",
       " ⋮       \n",
       " 0.223555\n",
       " 0.41471 \n",
       " 0.29676 \n",
       " 0.991029\n",
       " 0.395745\n",
       " 0.947528\n",
       " 0.835744\n",
       " 0.669867\n",
       " 0.836518\n",
       " 0.393077\n",
       " 0.543453\n",
       " 0.5212  "
      ]
     },
     "execution_count": 14,
     "metadata": {},
     "output_type": "execute_result"
    }
   ],
   "source": [
    "#### Prepare Data\n",
    "\n",
    "X = rand(1000, 3)               # feature matrix\n",
    "a0 = rand(3)                    # ground truths\n",
    "y = X * a0 + 0.1 * randn(1000);  # generate response"
   ]
  },
  {
   "cell_type": "markdown",
   "metadata": {},
   "source": [
    "## Problem 2"
   ]
  },
  {
   "cell_type": "code",
   "execution_count": 15,
   "metadata": {
    "collapsed": false
   },
   "outputs": [
    {
     "name": "stdout",
     "output_type": "stream",
     "text": [
      "[0.120512,0.0732871,0.954649,0.00897003]\n"
     ]
    }
   ],
   "source": [
    "X2 = hcat(X,ones(1000))\n",
    "println(X2\\y)"
   ]
  },
  {
   "cell_type": "markdown",
   "metadata": {},
   "source": [
    "## Problem 3"
   ]
  },
  {
   "cell_type": "code",
   "execution_count": 16,
   "metadata": {
    "collapsed": false
   },
   "outputs": [
    {
     "data": {
      "text/plain": [
       "4-element Array{Float64,1}:\n",
       " 0.120512  \n",
       " 0.0732871 \n",
       " 0.954649  \n",
       " 0.00897003"
      ]
     },
     "execution_count": 16,
     "metadata": {},
     "output_type": "execute_result"
    }
   ],
   "source": [
    "using MultivariateStats\n",
    "llsq(X,y)"
   ]
  },
  {
   "cell_type": "markdown",
   "metadata": {},
   "source": [
    "## Problem 4"
   ]
  },
  {
   "cell_type": "code",
   "execution_count": 23,
   "metadata": {
    "collapsed": false
   },
   "outputs": [
    {
     "data": {
      "text/plain": [
       "DataFrames.DataFrameRegressionModel{GLM.LinearModel{GLM.LmResp{Array{Float64,1}},GLM.DensePredQR{Float64}},Array{Float64,2}}\n",
       "\n",
       "Formula: Y ~ 1 + X1 + X2 + X3\n",
       "\n",
       "Coefficients:\n",
       "               Estimate  Std.Error  t value Pr(>|t|)\n",
       "(Intercept)  0.00897003 0.00960328 0.934059   0.3505\n",
       "X1             0.120512  0.0106063  11.3623   <1e-27\n",
       "X2            0.0732871   0.010627   6.8963   <1e-11\n",
       "X3             0.954649  0.0106649  89.5128   <1e-99\n"
      ]
     },
     "execution_count": 23,
     "metadata": {},
     "output_type": "execute_result"
    }
   ],
   "source": [
    "using DataFrames, GLM\n",
    "data = DataFrame(X1=X[:,1], X2=X[:,2], X3=X[:,3],Y=y)\n",
    "OLS = lm(Y ~ X1 + X2 + X3, data)"
   ]
  }
 ],
 "metadata": {
  "kernelspec": {
   "display_name": "Julia 0.5.0",
   "language": "julia",
   "name": "julia-0.5"
  },
  "language_info": {
   "file_extension": ".jl",
   "mimetype": "application/julia",
   "name": "julia",
   "version": "0.5.0"
  }
 },
 "nbformat": 4,
 "nbformat_minor": 1
}
