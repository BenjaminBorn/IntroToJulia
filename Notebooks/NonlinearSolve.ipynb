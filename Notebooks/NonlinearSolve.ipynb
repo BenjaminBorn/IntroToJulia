{
 "cells": [
  {
   "cell_type": "markdown",
   "metadata": {},
   "source": [
    "## Roots.jl and NLsolve.jl\n",
    "\n",
    "Roots.jl and NLSolve.jl are two libraries for root finding in Julia. Roots.jl is for univariate problems and NLsolve.jl is for multivariate problems. NLsolve.jl uses the autodifferentiation libraries and Optim.jl to improve its calculations.\n",
    "\n",
    "### Problem 1\n",
    "\n",
    "Use Roots.jl to solve [the Kepler equation](https://github.com/JuliaMath/Roots.jl#usage-examples):\n",
    "\n",
    "$$ f(x) = 10 - x + e \\sin(x) $$\n",
    "\n",
    "### Problem 2\n",
    "\n"
   ]
  }
 ],
 "metadata": {
  "kernelspec": {
   "display_name": "Julia 0.5.0",
   "language": "julia",
   "name": "julia-0.5"
  },
  "language_info": {
   "file_extension": ".jl",
   "mimetype": "application/julia",
   "name": "julia",
   "version": "0.5.0"
  }
 },
 "nbformat": 4,
 "nbformat_minor": 1
}
