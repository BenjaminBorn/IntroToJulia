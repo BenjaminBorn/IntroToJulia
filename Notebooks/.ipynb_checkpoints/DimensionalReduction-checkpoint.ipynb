{
 "cells": [
  {
   "cell_type": "markdown",
   "metadata": {},
   "source": [
    "## Dimensional Reduction Visualization Problem\n",
    "\n",
    "Use MultivariateStats.jl to create a Plot Recipe for plotting the 2D project to vectors defined by a dimensional reduction (for example, PCA). Create an optional argument for the PCA vectors to plot, defaulting to the first and second. Try your dimensional reduction plot on RDatasets.jl (a package with the default datasets of R)."
   ]
  }
 ],
 "metadata": {
  "kernelspec": {
   "display_name": "Julia 0.5.0",
   "language": "julia",
   "name": "julia-0.5"
  },
  "language_info": {
   "file_extension": ".jl",
   "mimetype": "application/julia",
   "name": "julia",
   "version": "0.5.0"
  }
 },
 "nbformat": 4,
 "nbformat_minor": 1
}
