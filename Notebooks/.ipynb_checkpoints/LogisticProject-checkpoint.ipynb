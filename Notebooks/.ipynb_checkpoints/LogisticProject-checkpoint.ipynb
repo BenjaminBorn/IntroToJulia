{
 "cells": [
  {
   "cell_type": "markdown",
   "metadata": {
    "slideshow": {
     "slide_type": "slide"
    }
   },
   "source": [
    "# Logistic Map Bifurcation Diagram"
   ]
  },
  {
   "cell_type": "markdown",
   "metadata": {
    "slideshow": {
     "slide_type": "fragment"
    }
   },
   "source": [
    "The logistic difference equation is defined by the recursion\n",
    "\n",
    "$$ b_{n+1}=r*b_{n}(1-b_{n}) $$\n",
    "\n",
    "where $b_{n}$ is the number of bunnies at time $n$. Starting with $b_{0}=.25$, by around $400$ iterations this will reach a steady state. This steady state (or steady periodic state) is dependent on $r$. Write a function which solves for the steady state(s) for each given $r$, and plot every state in the steady attractor for each $r$ (x-axis is $r$, $y$=value seen in the attractor) using PyPlot. Take $r\\in\\left(2.9,4\\right)$\n",
    "\n",
    "Optimize this function."
   ]
  },
  {
   "cell_type": "markdown",
   "metadata": {
    "slideshow": {
     "slide_type": "slide"
    }
   },
   "source": [
    "## Old Solution\n",
    "\n",
    "Please try solving this yourself first! Use this one as a hint if you get stuck."
   ]
  },
  {
   "cell_type": "code",
   "execution_count": null,
   "metadata": {
    "collapsed": true,
    "slideshow": {
     "slide_type": "fragment"
    }
   },
   "outputs": [],
   "source": [
    "## Produces the logstic plot\n",
    "# Requires PyPlot\n",
    "\n",
    "function logisticPlot()\n",
    "  tic()\n",
    "  r = 2.9:.00005:4; numAttract = 100;\n",
    "  steady = ones(length(r),1)*.25;\n",
    "  for i=1:400 ## Get to steady state\n",
    "    @devec steady = r.*steady.*(1-steady);\n",
    "  end\n",
    "  x = zeros(length(steady),numAttract);\n",
    "  x[:,1] = steady;\n",
    "  @simd for i=2:numAttract ## Grab values at the attractor\n",
    "    @inbounds @fastmath x[:,i] = r.*x[:,i-1].*(1-x[:,i-1]);\n",
    "  end\n",
    "  toc()\n",
    "  fig = figure(figsize=(20,10));\n",
    "  plot(collect(r),x,\"b.\",markersize=.06)\n",
    "  savefig(\"plot.png\",dpi=300);\n",
    "end\n",
    "using PyPlot\n",
    "@time logisticPlot()"
   ]
  }
 ],
 "metadata": {
  "celltoolbar": "Slideshow",
  "kernelspec": {
   "display_name": "Julia 0.5.0-rc3",
   "language": "julia",
   "name": "julia-0.5"
  },
  "language_info": {
   "file_extension": ".jl",
   "mimetype": "application/julia",
   "name": "julia",
   "version": "0.5.0"
  }
 },
 "nbformat": 4,
 "nbformat_minor": 1
}
