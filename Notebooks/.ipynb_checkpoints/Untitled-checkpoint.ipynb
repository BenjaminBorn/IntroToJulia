{
 "cells": [
  {
   "cell_type": "markdown",
   "metadata": {},
   "source": [
    "# Interop\n",
    "\n",
    "### ccall\n",
    "\n",
    "While not technically a package because it's built into Julia, `ccall` is very important to know. The documentation page for `ccall` is: http://docs.julialang.org/en/release-0.4/manual/calling-c-and-fortran-code/. I wrote a tutorial for using ccall: http://www.stochasticlifestyle.com/using-julias-c-interface-utilize-c-libraries/\n",
    "\n",
    "#### Xeon Phi\n",
    "\n",
    "Note that you can use ccall to control Xeon Phi acceleration cards: http://www.stochasticlifestyle.com/interfacing-xeon-phi-via-julia/\n",
    "\n",
    "### Cxx.jl\n",
    "\n",
    "### RCall\n",
    "\n",
    "### PyCall\n",
    "\n",
    "### MATLAB.jl\n",
    "\n",
    "### CUDArt.jl\n",
    "\n",
    "http://www.stochasticlifestyle.com/julia-on-the-hpc-with-gpus/\n",
    "\n",
    "http://www.stochasticlifestyle.com/multiple-gpu-on-the-hpc-with-julia/"
   ]
  }
 ],
 "metadata": {
  "kernelspec": {
   "display_name": "Julia 0.5.0",
   "language": "julia",
   "name": "julia-0.5"
  },
  "language_info": {
   "file_extension": ".jl",
   "mimetype": "application/julia",
   "name": "julia",
   "version": "0.5.0"
  }
 },
 "nbformat": 4,
 "nbformat_minor": 1
}
