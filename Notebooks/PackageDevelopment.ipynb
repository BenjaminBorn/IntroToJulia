{
 "cells": [
  {
   "cell_type": "markdown",
   "metadata": {},
   "source": [
    "# Package Development\n",
    "\n",
    "Follow the tutorial in the following link to setup a Julia package Github repository, complete with documentation and CI testing.\n",
    "\n",
    "http://www.stochasticlifestyle.com/finalizing-julia-package-documentation-testing-coverage-publishing/"
   ]
  }
 ],
 "metadata": {
  "kernelspec": {
   "display_name": "Julia 0.5.0",
   "language": "julia",
   "name": "julia-0.5"
  },
  "language_info": {
   "file_extension": ".jl",
   "mimetype": "application/julia",
   "name": "julia",
   "version": "0.5.0"
  }
 },
 "nbformat": 4,
 "nbformat_minor": 1
}
