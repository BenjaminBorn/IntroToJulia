{
 "cells": [
  {
   "cell_type": "markdown",
   "metadata": {},
   "source": [
    "#### Strang Matrix Problem\n",
    "\n",
    "Use Julia's array and control flow syntax in order to define the NxN Strang matrix:\n",
    "\n",
    "$$ \\left[\\begin{array}{ccccc}\n",
    "-2 & 1\\\\\n",
    "1 & -2 & 1\\\\\n",
    " & \\ddots & \\ddots & \\ddots\\\\\n",
    " &  & \\ddots & \\ddots & 1\\\\\n",
    " &  &  & 1 & -2\n",
    "\\end{array}\\right] $$\n",
    "\n",
    "i.e. a matrix with `-2` on the diagonal, 1 on the off-diagonals, and 0 elsewere."
   ]
  },
  {
   "cell_type": "code",
   "execution_count": 1,
   "metadata": {
    "collapsed": true
   },
   "outputs": [],
   "source": [
    "#### Prepare Data For Regression Problem\n",
    "\n",
    "X = rand(1000, 3)               # feature matrix\n",
    "a0 = rand(3)                    # ground truths\n",
    "y = X * a0 + 0.1 * randn(1000);  # generate response\n",
    "\n",
    "# Data For Regression Problem Part 2\n",
    "X = rand(100);\n",
    "y = 2X  + 0.1 * randn(100);"
   ]
  },
  {
   "cell_type": "markdown",
   "metadata": {},
   "source": [
    "#### Regression Problem\n",
    "\n",
    "Given an Nx3 array of data (`randn(N,3)`) and a Nx1 array of outcomes, produce the data matrix `X` which appends a column of 1's to the front of the data matrix, and solve for the 4x1 array `β` via `βX = b` using `qrfact`, or `\\`, or [the definition of the OLS estimator](https://en.wikipedia.org/wiki/Ordinary_least_squares#Estimation). (Note: This is linear regression).\n",
    "\n",
    "Compare your results to that of using `llsq` from `MultivariateStats.jl` (note: you need to go find the documentation to find out how to use this!). Compare your results to that of using ordinary least squares regression from `GLM.jl`.\n",
    "\n",
    "#### Regression Problem Part 2\n",
    "\n",
    "Using your OLS estimator or one of the aforementioned packages, solve for the regression line using the (X,y) data above. Plot the (X,y) scatter plot using `scatter!` from Plots.jl. Add the regression line using `abline!`. Add a title saying \"Regression Plot on Fake Data\", and label the x and y axis."
   ]
  },
  {
   "cell_type": "markdown",
   "metadata": {},
   "source": [
    "#### Problem 3\n",
    "\n"
   ]
  },
  {
   "cell_type": "markdown",
   "metadata": {},
   "source": [
    "#### Problem 4\n",
    "\n",
    "The logistic difference equation is defined by the recursion\n",
    "\n",
    "$$ b_{n+1}=r*b_{n}(1-b_{n}) $$\n",
    "\n",
    "where $b_{n}$ is the number of bunnies at time $n$. Starting with $b_{0}=.25$, by around $400$ iterations this will reach a steady state. This steady state (or steady periodic state) is dependent on $r$. Write a function which plots the steady state attractor. This is done as follows:\n",
    "\n",
    "1) Solve for the steady state(s) for each given $r$ (i.e. iterate the relation 400 times).\n",
    "\n",
    "2) Calculate \"every state\" in the steady state attractor. This means, at steady state (after the first 400 iterations), save the next 150 values. Call this set of values $y_s(r)$.\n",
    "\n",
    "3) Do steps (1) and (2) with $r\\in\\left(2.9,4\\right)$, `dr=.00005`. Plot $r$ x-axis vs $y_s(r)$=value seen in the attractor) using Plots.jl. Your result should be the [Logistic equation bifurcation diagram](https://upload.wikimedia.org/wikipedia/commons/7/7d/LogisticMap_BifurcationDiagram.png)."
   ]
  },
  {
   "cell_type": "markdown",
   "metadata": {},
   "source": [
    "#### Problem 6\n",
    "\n",
    "Make a function `person_info(x)` where, if `x` is a any type of person, print their name. However, if `x` is a student, print their name and their grade. Make a new type which is a graduate student, and have it print their name and grade as well. If `x` is anything else, throw an error. Do not using branching (`if`), use multiple dispatch to solve the problem! \n",
    "\n",
    "Note that in order to do this you will need to re-structure the type hierarchy. Make an AbstractPerson and AbstractStudent type, define the subclassing structure, and write dispatches on these abstract types. Note that you cannot define subclasses of concrete types!\n",
    "\n",
    "(Not only is the multiple-dispatch way more Julian, we will see later that it also has a lot of performance enhancements due to how it interacts with the compiler).\n",
    "\n",
    "#### Distribution Quantile Problem (From Josh Day)\n",
    "\n",
    "To find the quantile of a number `q` in a distribution, one can use a Newton method \n",
    "\n",
    "$$ \\theta_{n+1} = \\theta_{n} - \\frac{cdf(\\theta)-q}{pdf(\\theta)} $$\n",
    "\n",
    "to have $\\theta_{n} \\rightarrow$ the value of for the `q`th quantile. Use multiple dispatch to write a generic algorithm for which calculates the `q`th quantile of any `UnivariateDistribution` in Distributions.jl, and test your result against the `quantile(d::UnivariateDistribution,q::Number` function.\n",
    "\n",
    "Hint: Use $\\theta_{0} = $ mean of the distribution\n",
    "\n",
    "#### Operator Problem\n",
    "\n",
    "In mathematics, a matrix is known to be a linear operator. In many cases, this can have huge performance advantages because, if you  know a function which \"acts like a matrix\" but does not form the matrix itself, you can save the time that it takes to allocate the matrix (sometimes the matrix may not fit in memory!)\n",
    "\n",
    "Therefore, instead of solving regressions on matrices, let's be brave and generalize our regression algorithm to work on any operator, and make it solve the problem for the Laplacian operator. Here are the steps that are required to do this:\n",
    "\n",
    "- Make an abstract type `AbstractOperator`\n",
    "- Re-define AbstractMatrix as a subtype\n",
    "- Define a concrete type `LaplacianOperator` which holds a function. This function `f(x)` should calculate the discrete Laplacian of `x` (i.e. multiply it on the left by the Strang matrix, but without forming the matrix!)\n",
    "- Write dispatches for `*(::LaplacianOperator,::Vector)`, `eltype(::LaplacianOperator)`, `size(::LaplacianOperator,d::Integer)`. \n",
    "- Write `least_square(::Operator,::Vector)` to solve the least-square approximation problem `Ax=b` for any operator. Note that since you do not have a matrix, you cannot use `\\` or factorizations like `qrfact`. Instead, take a look at `cg` or `gmres` in IterativeSolvers.jl\n",
    "- Test your least_square function vs `llsq` and `lm` (where you use the data matrix as a Strang matrix). Do you get the same result?"
   ]
  },
  {
   "cell_type": "markdown",
   "metadata": {},
   "source": [
    "#### Problem 8\n",
    "\n",
    "If you know `start`, `step`, and `stop`, how do you calculate the `i`th value? Can you create a function MyRange which where for `a` being a `MyRange`, and `a[i]` is the correct value? Use the Julia array interface in order to define the function for the `a[i]` syntax on your type.\n",
    "\n",
    "#### Problem 9\n",
    "\n",
    "Do ?linspace. Make your own LinSpace object using the array interface. \n",
    "\n",
    "http://ucidatascienceinitiative.github.io/IntroToJulia/Html/ArrayIteratorInterfaces\n",
    "\n",
    "Do your implementations obay dimensional analysis? Try using the package `Unitful` to build arrays of numbers with units (i.e. an array of numbers who have values of Newtons), and see if you can make your LinSpace not give errors.\n",
    "\n",
    "#### Problem 10\n",
    "\n",
    "Check your implementation vs the source code of Ranges.jl. Tim Holy is the master of Julia arrays, learn from him!\n",
    "\n",
    "#### Problem 11\n",
    "\n",
    "Check out the call overloading notebook:\n",
    "\n",
    "http://ucidatascienceinitiative.github.io/IntroToJulia/Html/CallOverloading\n",
    "\n",
    "Overload the call on the UnitStepRange to give an interpolated value at intermediate points, i.e. if `a=1:2:10`, then `a(1.5)=2`."
   ]
  }
 ],
 "metadata": {
  "anaconda-cloud": {},
  "kernelspec": {
   "display_name": "Julia 0.5.2",
   "language": "julia",
   "name": "julia-0.5"
  },
  "language_info": {
   "file_extension": ".jl",
   "mimetype": "application/julia",
   "name": "julia",
   "version": "0.5.2"
  }
 },
 "nbformat": 4,
 "nbformat_minor": 1
}
